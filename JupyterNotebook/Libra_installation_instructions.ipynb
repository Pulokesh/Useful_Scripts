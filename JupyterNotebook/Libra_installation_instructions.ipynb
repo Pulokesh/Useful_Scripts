{
 "cells": [
  {
   "cell_type": "markdown",
   "id": "1f54b4a5",
   "metadata": {},
   "source": [
    "## Install Libra on Compute Canada Clusters\n",
    "### Graham\n",
    "* The following steps were taken, as per instructed in Libra ( https://github.com/Quantum-Dynamics-Hub/libra-code/tree/devel )"
   ]
  },
  {
   "cell_type": "markdown",
   "id": "9b63a5da",
   "metadata": {},
   "source": [
    "step 1: Download and install `miniconda`\n",
    "> `mkdir Conda\n",
    "cd Conda\n",
    "wget https://repo.anaconda.com/miniconda/Miniconda3-latest-Linux-x86_64.sh\n",
    "sh ./Miniconda3-latest-Linux-x86_64.sh`"
   ]
  },
  {
   "cell_type": "markdown",
   "id": "165444d6",
   "metadata": {},
   "source": [
    "step 2: Create Conda environment `py37` and activate \n",
    "> `\teval \"$(/home/ekadashi/miniconda3/bin/conda shell.bash hook)\"\n",
    "\tconda create -n py37\n",
    "\tconda activate py37`"
   ]
  },
  {
   "cell_type": "markdown",
   "id": "b7aa04ca",
   "metadata": {},
   "source": [
    "step 3: Download Libra package (I think I did step4 prior to step3 on Cedar)\n",
    "> `\tmkdir Libra\n",
    "\tcd Libra\n",
    "\tgit clone https://github.com/Quantum-Dynamics-Hub/libra-code.git `\n",
    "* Note: You could try `git clone https://github.com/Quantum-Dynamics-Hub/libra-code.git .` which will clone stuffs to the Libra directory."
   ]
  },
  {
   "cell_type": "markdown",
   "id": "6217c302",
   "metadata": {},
   "source": [
    "step4: Download and install all the `dependencies` \n",
    "\n",
    "* Essential packages\n",
    "> `conda install conda-build\n",
    "conda install gcc_linux-64\n",
    "conda install gxx_linux-64\n",
    "conda install make\n",
    "conda install boost\n",
    "conda install cmake\n",
    "conda install git\n",
    "conda install -c anaconda h5py\n",
    "conda install -c conda-forge/label/gcc7 eigen \n",
    "conda install -c psi4/label/dev libint2 \n",
    "conda install -c anaconda gmp\n",
    "conda install -c conda-forge/label/gcc7 mpfr `\n",
    "\n",
    "* More packages\n",
    "> `conda install python=3.6\n",
    "conda install -c psi4 psi4\n",
    "conda install -c conda-forge matplotlib\n",
    "conda install -c rmg py3dmol\n",
    "conda install -c anaconda numpy\n",
    "conda install -c anaconda scipy\n",
    "conda install -c conda-forge llvm-openmp `\n",
    "\n",
    "* optional packages (Did not install on Cedar) \n",
    "> `conda install -c conda-forge jupyterlab\n",
    "conda install -c conda-forge/label/gcc7 imageio `"
   ]
  },
  {
   "cell_type": "markdown",
   "id": "11ede1b6",
   "metadata": {},
   "source": [
    "step 5: Adapt CMakeLists.txt file to the proper version of Python and Boost. Check the following lines in CMakeLists.txt file \n",
    "> `FIND_PACKAGE(PythonLibs 3.6 REQUIRED)\n",
    " FIND_PACKAGE(Boost COMPONENTS python36 regex)\n",
    " FIND_PACKAGE(Boost 1.73.0 REQUIRED) `"
   ]
  },
  {
   "cell_type": "markdown",
   "id": "7dd7d79c",
   "metadata": {},
   "source": [
    "step 6: Go to Libra Directory and build the package \n",
    "> `cd Libra\n",
    "mkdir _build\n",
    "cd _build\n",
    "cmake ../\n",
    "make -j4 ( or, nohup make -j4 >& nhp.out &)`"
   ]
  },
  {
   "cell_type": "markdown",
   "id": "44c6f0c1",
   "metadata": {},
   "source": [
    "step 7: Setup Environmental Variables\n",
    "* Add the following exports to your .bash_profile\n",
    "> `export PYTHONPATH=<path to the ppackage>/libra/_build/src:$PYTHONPATH\n",
    "export LD_LIBRARY_PATH=<path to the ppackage>/libra/_build/src:$LD_LIBRARY_PATH `\n",
    "\n",
    "* Example: For Cedar and Graham, I have `export PYTHONPATH=/home/ekadashi/Libra/_build/src:$PYTHONPATH` for the `PYTHON_PATH`. Now, you can set up `LD_LIBRARY_PATH` accordingly."
   ]
  },
  {
   "cell_type": "markdown",
   "id": "37ff2eae",
   "metadata": {},
   "source": [
    "step 8: Restart Terminal or source the bash profile and activate conda environment\n",
    "> `source .bash_profile\n",
    "conda activate py37 `\n",
    "* I usually restart teminal. Then prior to using Libra, I activate py37 environment by `conda activate py37`. This works for `Cedar`. For Graham, I actually inserted this ont the `.bash_profile` file such that my default environment on Graham is py37."
   ]
  },
  {
   "cell_type": "code",
   "execution_count": null,
   "id": "097da226",
   "metadata": {},
   "outputs": [],
   "source": []
  }
 ],
 "metadata": {
  "kernelspec": {
   "display_name": "Python 3",
   "language": "python",
   "name": "python3"
  },
  "language_info": {
   "codemirror_mode": {
    "name": "ipython",
    "version": 3
   },
   "file_extension": ".py",
   "mimetype": "text/x-python",
   "name": "python",
   "nbconvert_exporter": "python",
   "pygments_lexer": "ipython3",
   "version": "3.8.8"
  }
 },
 "nbformat": 4,
 "nbformat_minor": 5
}
