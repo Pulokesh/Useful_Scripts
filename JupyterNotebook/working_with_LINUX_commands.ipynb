{
 "cells": [
  {
   "cell_type": "markdown",
   "id": "6fd2ebe9",
   "metadata": {},
   "source": [
    "### How to work with UNIX/LINUX environment from Windows?"
   ]
  },
  {
   "cell_type": "markdown",
   "id": "1735b377",
   "metadata": {},
   "source": [
    "> Well, there are various applications that allows you to connect to Unix/Linux servers from your Windows computer.\n",
    "- **MobaXterm**\n",
    "     > First of all, download MobaXterm from here https://mobaxterm.mobatek.net/ and install. Try home edition - its free!\n",
    "- PuTTy\n",
    "- Cygwin\n",
    "- Xmanager"
   ]
  },
  {
   "cell_type": "code",
   "execution_count": null,
   "id": "f7ae2c53",
   "metadata": {},
   "outputs": [],
   "source": []
  }
 ],
 "metadata": {
  "kernelspec": {
   "display_name": "Python 3",
   "language": "python",
   "name": "python3"
  },
  "language_info": {
   "codemirror_mode": {
    "name": "ipython",
    "version": 3
   },
   "file_extension": ".py",
   "mimetype": "text/x-python",
   "name": "python",
   "nbconvert_exporter": "python",
   "pygments_lexer": "ipython3",
   "version": "3.8.8"
  }
 },
 "nbformat": 4,
 "nbformat_minor": 5
}
